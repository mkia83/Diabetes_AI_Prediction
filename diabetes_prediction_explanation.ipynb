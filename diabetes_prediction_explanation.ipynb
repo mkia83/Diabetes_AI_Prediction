{
 "cells": [
  {
   "cell_type": "code",
   "execution_count": null,
   "metadata": {},
   "outputs": [],
   "source": [
    "import tensorflow as tf \n",
    "from keras import models , layers \n",
    "import pandas as pd \n",
    "from sklearn.model_selection import train_test_split\n",
    "import seaborn as sns \n",
    "import matplotlib.pyplot as plt \n",
    "import numpy as np"
   ]
  },
  {
   "cell_type": "markdown",
   "metadata": {},
   "source": [
    "# Diabetes Prediction with Deep Learning\n",
    "This project demonstrates how to build a neural network to predict diabetes using patient health data.The model uses a simple feedforward neural network implemented with Tensorflow/Keras"
   ]
  },
  {
   "cell_type": "code",
   "execution_count": null,
   "metadata": {},
   "outputs": [],
   "source": [
    "df=pd.read_csv('diabetes.csv')\n",
    "x=df.drop('Outcome',axis=1)\n",
    "y=df['Outcome']"
   ]
  },
  {
   "cell_type": "markdown",
   "metadata": {},
   "source": [
    "# Data Loading and Exploration\n",
    "\n",
    "We're using a diabetes dataset that contains various health metrics as features and a binary outcome indicating whether the patient has diabetes (1) or not (0).\n",
    "\n",
    "*Expected features:* Pregnancies, Glucose, BloodPressure, SkinThickness, Insulin, BMI, DiabetesPedigreeFunction, Age"
   ]
  },
  {
   "cell_type": "code",
   "execution_count": null,
   "metadata": {},
   "outputs": [],
   "source": [
    "X_train,X_test,y_train,y_test=train_test_split(x,y,test_size=0.2)"
   ]
  },
  {
   "cell_type": "markdown",
   "metadata": {},
   "source": [
    "# Data Preparation\n",
    "\n",
    "We split our data into training and testing sets using an 80-20 split. This allows us to train the model on one portion of the data and evaluate its performance on unseen data."
   ]
  },
  {
   "cell_type": "code",
   "execution_count": null,
   "metadata": {},
   "outputs": [],
   "source": [
    "plt.subplots(figsize=(8,8))\n",
    "sns.heatmap(df.corr(),annot=True,cmap='coolwarm')"
   ]
  },
  {
   "cell_type": "markdown",
   "metadata": {},
   "source": [
    "# Data Exploration\n",
    "\n",
    "Let's examine the distribution of our target variable and check for any data imbalances that might affect our model's performance."
   ]
  },
  {
   "cell_type": "code",
   "execution_count": null,
   "metadata": {},
   "outputs": [],
   "source": [
    "model=models.Sequential([\n",
    "    layers.Dense(256,activation='relu',input_shape=(X_train.shape[1],)),\n",
    "    layers.Dropout(0.2),\n",
    "    layers.Dense(128,activation='relu'),\n",
    "    layers.Dropout(0.2),\n",
    "    layers.Dense(64,activation='relu'),\n",
    "    layers.Dropout(0.2),\n",
    "    layers.Dense(128,activation='relu'),\n",
    "    layers.Dense(1,activation='sigmoid')\n",
    "])"
   ]
  },
  {
   "cell_type": "markdown",
   "metadata": {},
   "source": [
    "# Model Architecture\n",
    "\n",
    "We're building a sequential neural network with:\n",
    "- *Input layer:* Size matches our number of features (8)\n",
    "- *Hidden layer 1:* 256 neurons with ReLU activation\n",
    "- *Hidden layer 2:* 128 neurons with ReLU activation  \n",
    "- *Hidden layer 3:* 64 neurons with ReLU activation \n",
    "- *Hidden layer 4:* 128 neurons with ReLU activation   \n",
    "- *Output layer:* 1 neuron with sigmoid activation (for binary classification)\n",
    "*Dropout* is a technique that randomly \"drops out\" (ignores) a percentage of neurons during each training iteration. This prevents the model from becoming too dependent on any single neuron and helps reduce overfitting.\n",
    "\n",
    "- *Dropout rate of 0.2-0.5* is typically used\n",
    "- It works like an \"ensemble\" of multiple networks\n",
    "- Only active during training, not during prediction\n",
    "This architecture allows the model to learn complex patterns in the health data."
   ]
  },
  {
   "cell_type": "code",
   "execution_count": null,
   "metadata": {},
   "outputs": [],
   "source": [
    "model.compile(loss='binary_crossentropy',optimizer='adam',metrics=['accuracy'])"
   ]
  },
  {
   "cell_type": "markdown",
   "metadata": {},
   "source": [
    "# Model Compilation\n",
    "\n",
    "We compile the model with:\n",
    "- *Optimizer:* Adam (adaptive learning rate optimization)\n",
    "- *Loss function:* Binary crossentropy (appropriate for yes/no classification)\n",
    "- *Metric:* Accuracy (to track performance during training)"
   ]
  },
  {
   "cell_type": "code",
   "execution_count": null,
   "metadata": {},
   "outputs": [],
   "source": [
    "\n",
    "history=model.fit(X_train,y_train,epochs=100,validation_data=(X_test,y_test))"
   ]
  },
  {
   "cell_type": "markdown",
   "metadata": {},
   "source": [
    " # Model Training\n",
    "\n",
    "We train the model for 100 epochs, using the validation set to monitor for overfitting. The training process will show us how the model learns patterns from the data over time."
   ]
  },
  {
   "cell_type": "code",
   "execution_count": null,
   "metadata": {},
   "outputs": [],
   "source": [
    "scores=model.evaluate(X_test,y_test)\n",
    "print('Training Accuracy:%.2f%%\\n'%(scores[1]*100))"
   ]
  },
  {
   "cell_type": "markdown",
   "metadata": {},
   "source": [
    "# Model Evaluation\n",
    "\n",
    "Now we evaluate the final model performance on the test set that it has never seen during training. This gives us an unbiased estimate of how well the model would perform in real-world scenarios"
   ]
  },
  {
   "cell_type": "markdown",
   "metadata": {},
   "source": [
    "# Conclusion\n",
    "\n",
    "This diabetes prediction model achieved 77% accuracy* on the test set. The model can be further improved by:\n",
    "- Feature engineering and normalization\n",
    "- Hyperparameter tuning\n",
    "- Trying different architectures\n",
    "- Addressing class imbalance if present\n",
    "\n",
    "The saved model can now be deployed for making predictions on new patient data."
   ]
  }
 ],
 "metadata": {
  "kernelspec": {
   "display_name": "Python 3",
   "language": "python",
   "name": "python3"
  },
  "language_info": {
   "name": "python",
   "version": "3.8.8"
  }
 },
 "nbformat": 4,
 "nbformat_minor": 2
}
